{
 "cells": [
  {
   "cell_type": "markdown",
   "metadata": {
    "deletable": false,
    "editable": false,
    "tags": []
   },
   "source": [
    "## Problem 2: Points to map (7 points)\n",
    " \n",
    "In this task, we continue to learn how to create geometries from latitude and longitude coordinates.\n",
    "\n",
    "**Our aim is to plot a map of points, based on a set of longitude and latitude coordinates that are stored in a csv file.** \n",
    "\n",
    "The input data is stored in the CSV spreadsheet `some_posts.csv` in the directory `data`. The coordinates stored there are in WGS84 format (decimal degrees, EPSG:4326), and the first few rows of data look like this:\n",
    " \n",
    "```\n",
    "lat,lon,timestamp,userid\n",
    "-24.980792492,31.484633302,2015-07-07 03:02,66487960\n",
    "-25.499224667,31.508905612,2015-07-07 03:18,65281761\n",
    "-24.342578456,30.930866066,2015-03-07 03:38,90916112\n",
    "-24.85461393,31.519718439,2015-10-07 05:04,37959089\n",
    "```\n",
    "\n",
    "The data has 81379 rows and consists of locations and times of de-identified social media posts inside Kruger national park in South Africa:\n",
    "\n",
    "| Column | Description |\n",
    "|--------|-------------|\n",
    "| lat | y-coordinate of the post |\n",
    "| lon | x-coordinate of the post |\n",
    "| timestamp | Time when the post was uploaded |\n",
    "| userid | unique id for each user|\n",
    "\n",
    "*Note: Although the data is based on real social media data, the userids and timestamps have been randomized making it impossible to link the data to the original posts.*"
   ]
  },
  {
   "cell_type": "markdown",
   "metadata": {
    "deletable": false,
    "editable": false,
    "tags": []
   },
   "source": [
    "### a) Read the CSV file\n",
    "\n",
    "- Read the data from `some_posts.csv` into a Pandas dataframe called `data`"
   ]
  },
  {
   "cell_type": "code",
   "execution_count": 1,
   "metadata": {},
   "outputs": [
    {
     "data": {
      "text/html": [
       "<div>\n",
       "<style scoped>\n",
       "    .dataframe tbody tr th:only-of-type {\n",
       "        vertical-align: middle;\n",
       "    }\n",
       "\n",
       "    .dataframe tbody tr th {\n",
       "        vertical-align: top;\n",
       "    }\n",
       "\n",
       "    .dataframe thead th {\n",
       "        text-align: right;\n",
       "    }\n",
       "</style>\n",
       "<table border=\"1\" class=\"dataframe\">\n",
       "  <thead>\n",
       "    <tr style=\"text-align: right;\">\n",
       "      <th></th>\n",
       "      <th>lat</th>\n",
       "      <th>lon</th>\n",
       "      <th>timestamp</th>\n",
       "      <th>userid</th>\n",
       "    </tr>\n",
       "  </thead>\n",
       "  <tbody>\n",
       "    <tr>\n",
       "      <th>0</th>\n",
       "      <td>-24.980792</td>\n",
       "      <td>31.484633</td>\n",
       "      <td>2015-07-07 03:02</td>\n",
       "      <td>66487960</td>\n",
       "    </tr>\n",
       "    <tr>\n",
       "      <th>1</th>\n",
       "      <td>-25.499225</td>\n",
       "      <td>31.508906</td>\n",
       "      <td>2015-07-07 03:18</td>\n",
       "      <td>65281761</td>\n",
       "    </tr>\n",
       "    <tr>\n",
       "      <th>2</th>\n",
       "      <td>-24.342578</td>\n",
       "      <td>30.930866</td>\n",
       "      <td>2015-03-07 03:38</td>\n",
       "      <td>90916112</td>\n",
       "    </tr>\n",
       "    <tr>\n",
       "      <th>3</th>\n",
       "      <td>-24.854614</td>\n",
       "      <td>31.519718</td>\n",
       "      <td>2015-10-07 05:04</td>\n",
       "      <td>37959089</td>\n",
       "    </tr>\n",
       "    <tr>\n",
       "      <th>4</th>\n",
       "      <td>-24.921069</td>\n",
       "      <td>31.520836</td>\n",
       "      <td>2015-10-07 05:19</td>\n",
       "      <td>27793716</td>\n",
       "    </tr>\n",
       "  </tbody>\n",
       "</table>\n",
       "</div>"
      ],
      "text/plain": [
       "         lat        lon         timestamp    userid\n",
       "0 -24.980792  31.484633  2015-07-07 03:02  66487960\n",
       "1 -25.499225  31.508906  2015-07-07 03:18  65281761\n",
       "2 -24.342578  30.930866  2015-03-07 03:38  90916112\n",
       "3 -24.854614  31.519718  2015-10-07 05:04  37959089\n",
       "4 -24.921069  31.520836  2015-10-07 05:19  27793716"
      ]
     },
     "execution_count": 1,
     "metadata": {},
     "output_type": "execute_result"
    }
   ],
   "source": [
    "import pathlib\n",
    "import pandas\n",
    "pathlib.Path()\n",
    "DATA_DIRECTORY = pathlib.Path().resolve() / \"data\"\n",
    "DATA_DIRECTORY\n",
    "data = pandas.read_csv(DATA_DIRECTORY / \"some_posts.csv\")\n",
    "data.head()"
   ]
  },
  {
   "cell_type": "code",
   "execution_count": 2,
   "metadata": {
    "collapsed": false,
    "deletable": false,
    "editable": false,
    "jupyter": {
     "outputs_hidden": false
    }
   },
   "outputs": [
    {
     "name": "stdout",
     "output_type": "stream",
     "text": [
      "Number of rows: 81379\n"
     ]
    }
   ],
   "source": [
    "# NON-EDITABLE CODE CELL FOR TESTING YOUR SOLUTION\n",
    "\n",
    "# Check the result\n",
    "print(f\"Number of rows: {len(data)}\")"
   ]
  },
  {
   "cell_type": "markdown",
   "metadata": {
    "deletable": false,
    "editable": false,
    "tags": []
   },
   "source": [
    "### b) Add a geometry column and fill it with geometries\n",
    "\n",
    "- Create an empty column called `geometry` where you will store shapely Point objects\n",
    "- Insert Point objects into the column `geometry` based on the coordinate columns \n",
    "\n",
    "You want to create a `shapely.geometry.Point` *for each row*, based on the columns `lon` and `lat`.\n",
    "There are different approaches to this task, we encourage you to try to use the [`apply()` method](https://pandas.pydata.org/pandas-docs/stable/reference/api/pandas.DataFrame.apply.html) of the data frame, together with a *lambda function* (see the [**hints  for exercise 1**](https://autogis-site.readthedocs.io/en/latest/lessons/lesson-1/exercise-1.html), and the [**hints for this exercise**](https://autogis-site.readthedocs.io/en/latest/lessons/lesson-2/exercise-2.html))\n"
   ]
  },
  {
   "cell_type": "code",
   "execution_count": 32,
   "metadata": {},
   "outputs": [
    {
     "name": "stdout",
     "output_type": "stream",
     "text": [
      "lat                                  -24.980917\n",
      "lon                                   31.531322\n",
      "timestamp                      2015-10-04 08:11\n",
      "userid                                 59011846\n",
      "geometry     POINT (31.531321708 -24.980917332)\n",
      "Name: 7271, dtype: object\n"
     ]
    }
   ],
   "source": [
    "#funciona. lambda variable que va a entrar : funcion con la variable que va a salir. apply itera sobre cada linea de data. \n",
    "import pandas\n",
    "import shapely. geometry\n",
    "data['geometry'] = data.apply(\n",
    "    lambda row: shapely.geometry.Point(row[\"lon\"], row[\"lat\"]),\n",
    "    axis=1\n",
    ")"
   ]
  },
  {
   "cell_type": "code",
   "execution_count": 10,
   "metadata": {
    "collapsed": true,
    "jupyter": {
     "outputs_hidden": true,
     "source_hidden": true
    }
   },
   "outputs": [
    {
     "ename": "KeyboardInterrupt",
     "evalue": "",
     "output_type": "error",
     "traceback": [
      "\u001b[0;31m---------------------------------------------------------------------------\u001b[0m",
      "\u001b[0;31mKeyboardInterrupt\u001b[0m                         Traceback (most recent call last)",
      "\u001b[0;32m/tmp/ipykernel_1568/3159578318.py\u001b[0m in \u001b[0;36m?\u001b[0;34m()\u001b[0m\n\u001b[1;32m      3\u001b[0m \u001b[0;32mimport\u001b[0m \u001b[0mshapely\u001b[0m\u001b[0;34m.\u001b[0m\u001b[0mgeometry\u001b[0m\u001b[0;34m\u001b[0m\u001b[0;34m\u001b[0m\u001b[0m\n\u001b[1;32m      4\u001b[0m \u001b[0;34m\u001b[0m\u001b[0m\n\u001b[1;32m      5\u001b[0m \u001b[0;32mfor\u001b[0m \u001b[0mi\u001b[0m\u001b[0;34m,\u001b[0m \u001b[0mrow\u001b[0m \u001b[0;32min\u001b[0m \u001b[0mdata\u001b[0m\u001b[0;34m.\u001b[0m\u001b[0miterrows\u001b[0m\u001b[0;34m(\u001b[0m\u001b[0;34m)\u001b[0m\u001b[0;34m:\u001b[0m\u001b[0;34m\u001b[0m\u001b[0;34m\u001b[0m\u001b[0m\n\u001b[1;32m      6\u001b[0m     \u001b[0mpoint\u001b[0m \u001b[0;34m=\u001b[0m \u001b[0mshapely\u001b[0m\u001b[0;34m.\u001b[0m\u001b[0mgeometry\u001b[0m\u001b[0;34m.\u001b[0m\u001b[0mPoint\u001b[0m\u001b[0;34m(\u001b[0m\u001b[0mrow\u001b[0m\u001b[0;34m[\u001b[0m\u001b[0;34m\"lon\"\u001b[0m\u001b[0;34m]\u001b[0m\u001b[0;34m,\u001b[0m \u001b[0mrow\u001b[0m\u001b[0;34m[\u001b[0m\u001b[0;34m\"lat\"\u001b[0m\u001b[0;34m]\u001b[0m\u001b[0;34m)\u001b[0m\u001b[0;34m\u001b[0m\u001b[0;34m\u001b[0m\u001b[0m\n\u001b[0;32m----> 7\u001b[0;31m     \u001b[0mdata\u001b[0m\u001b[0;34m[\u001b[0m\u001b[0;34m'geometry'\u001b[0m\u001b[0;34m]\u001b[0m\u001b[0;34m=\u001b[0m\u001b[0mpoint\u001b[0m\u001b[0;34m\u001b[0m\u001b[0;34m\u001b[0m\u001b[0m\n\u001b[0m",
      "\u001b[0;32m/opt/conda/lib/python3.10/site-packages/pandas/core/frame.py\u001b[0m in \u001b[0;36m?\u001b[0;34m(self, key, value)\u001b[0m\n\u001b[1;32m   3946\u001b[0m             \u001b[0;31m# Column to set is duplicated\u001b[0m\u001b[0;34m\u001b[0m\u001b[0;34m\u001b[0m\u001b[0m\n\u001b[1;32m   3947\u001b[0m             \u001b[0mself\u001b[0m\u001b[0;34m.\u001b[0m\u001b[0m_setitem_array\u001b[0m\u001b[0;34m(\u001b[0m\u001b[0;34m[\u001b[0m\u001b[0mkey\u001b[0m\u001b[0;34m]\u001b[0m\u001b[0;34m,\u001b[0m \u001b[0mvalue\u001b[0m\u001b[0;34m)\u001b[0m\u001b[0;34m\u001b[0m\u001b[0;34m\u001b[0m\u001b[0m\n\u001b[1;32m   3948\u001b[0m         \u001b[0;32melse\u001b[0m\u001b[0;34m:\u001b[0m\u001b[0;34m\u001b[0m\u001b[0;34m\u001b[0m\u001b[0m\n\u001b[1;32m   3949\u001b[0m             \u001b[0;31m# set column\u001b[0m\u001b[0;34m\u001b[0m\u001b[0;34m\u001b[0m\u001b[0m\n\u001b[0;32m-> 3950\u001b[0;31m             \u001b[0mself\u001b[0m\u001b[0;34m.\u001b[0m\u001b[0m_set_item\u001b[0m\u001b[0;34m(\u001b[0m\u001b[0mkey\u001b[0m\u001b[0;34m,\u001b[0m \u001b[0mvalue\u001b[0m\u001b[0;34m)\u001b[0m\u001b[0;34m\u001b[0m\u001b[0;34m\u001b[0m\u001b[0m\n\u001b[0m",
      "\u001b[0;32m/opt/conda/lib/python3.10/site-packages/pandas/core/frame.py\u001b[0m in \u001b[0;36m?\u001b[0;34m(self, key, value)\u001b[0m\n\u001b[1;32m   4152\u001b[0m                 \u001b[0mexisting_piece\u001b[0m \u001b[0;34m=\u001b[0m \u001b[0mself\u001b[0m\u001b[0;34m[\u001b[0m\u001b[0mkey\u001b[0m\u001b[0;34m]\u001b[0m\u001b[0;34m\u001b[0m\u001b[0;34m\u001b[0m\u001b[0m\n\u001b[1;32m   4153\u001b[0m                 \u001b[0;32mif\u001b[0m \u001b[0misinstance\u001b[0m\u001b[0;34m(\u001b[0m\u001b[0mexisting_piece\u001b[0m\u001b[0;34m,\u001b[0m \u001b[0mDataFrame\u001b[0m\u001b[0;34m)\u001b[0m\u001b[0;34m:\u001b[0m\u001b[0;34m\u001b[0m\u001b[0;34m\u001b[0m\u001b[0m\n\u001b[1;32m   4154\u001b[0m                     \u001b[0mvalue\u001b[0m \u001b[0;34m=\u001b[0m \u001b[0mnp\u001b[0m\u001b[0;34m.\u001b[0m\u001b[0mtile\u001b[0m\u001b[0;34m(\u001b[0m\u001b[0mvalue\u001b[0m\u001b[0;34m,\u001b[0m \u001b[0;34m(\u001b[0m\u001b[0mlen\u001b[0m\u001b[0;34m(\u001b[0m\u001b[0mexisting_piece\u001b[0m\u001b[0;34m.\u001b[0m\u001b[0mcolumns\u001b[0m\u001b[0;34m)\u001b[0m\u001b[0;34m,\u001b[0m \u001b[0;36m1\u001b[0m\u001b[0;34m)\u001b[0m\u001b[0;34m)\u001b[0m\u001b[0;34m.\u001b[0m\u001b[0mT\u001b[0m\u001b[0;34m\u001b[0m\u001b[0;34m\u001b[0m\u001b[0m\n\u001b[1;32m   4155\u001b[0m \u001b[0;34m\u001b[0m\u001b[0m\n\u001b[0;32m-> 4156\u001b[0;31m         \u001b[0mself\u001b[0m\u001b[0;34m.\u001b[0m\u001b[0m_set_item_mgr\u001b[0m\u001b[0;34m(\u001b[0m\u001b[0mkey\u001b[0m\u001b[0;34m,\u001b[0m \u001b[0mvalue\u001b[0m\u001b[0;34m)\u001b[0m\u001b[0;34m\u001b[0m\u001b[0;34m\u001b[0m\u001b[0m\n\u001b[0m",
      "\u001b[0;32m/opt/conda/lib/python3.10/site-packages/pandas/core/frame.py\u001b[0m in \u001b[0;36m?\u001b[0;34m(self, key, value)\u001b[0m\n\u001b[1;32m   4108\u001b[0m     \u001b[0;32mdef\u001b[0m \u001b[0m_set_item_mgr\u001b[0m\u001b[0;34m(\u001b[0m\u001b[0mself\u001b[0m\u001b[0;34m,\u001b[0m \u001b[0mkey\u001b[0m\u001b[0;34m,\u001b[0m \u001b[0mvalue\u001b[0m\u001b[0;34m:\u001b[0m \u001b[0mArrayLike\u001b[0m\u001b[0;34m)\u001b[0m \u001b[0;34m->\u001b[0m \u001b[0;32mNone\u001b[0m\u001b[0;34m:\u001b[0m\u001b[0;34m\u001b[0m\u001b[0;34m\u001b[0m\u001b[0m\n\u001b[1;32m   4109\u001b[0m         \u001b[0;32mtry\u001b[0m\u001b[0;34m:\u001b[0m\u001b[0;34m\u001b[0m\u001b[0;34m\u001b[0m\u001b[0m\n\u001b[1;32m   4110\u001b[0m             \u001b[0mloc\u001b[0m \u001b[0;34m=\u001b[0m \u001b[0mself\u001b[0m\u001b[0;34m.\u001b[0m\u001b[0m_info_axis\u001b[0m\u001b[0;34m.\u001b[0m\u001b[0mget_loc\u001b[0m\u001b[0;34m(\u001b[0m\u001b[0mkey\u001b[0m\u001b[0;34m)\u001b[0m\u001b[0;34m\u001b[0m\u001b[0;34m\u001b[0m\u001b[0m\n\u001b[0;32m-> 4111\u001b[0;31m         \u001b[0;32mexcept\u001b[0m \u001b[0mKeyError\u001b[0m\u001b[0;34m:\u001b[0m\u001b[0;34m\u001b[0m\u001b[0;34m\u001b[0m\u001b[0m\n\u001b[0m\u001b[1;32m   4112\u001b[0m             \u001b[0;31m# This item wasn't present, just insert at end\u001b[0m\u001b[0;34m\u001b[0m\u001b[0;34m\u001b[0m\u001b[0m\n\u001b[1;32m   4113\u001b[0m             \u001b[0mself\u001b[0m\u001b[0;34m.\u001b[0m\u001b[0m_mgr\u001b[0m\u001b[0;34m.\u001b[0m\u001b[0minsert\u001b[0m\u001b[0;34m(\u001b[0m\u001b[0mlen\u001b[0m\u001b[0;34m(\u001b[0m\u001b[0mself\u001b[0m\u001b[0;34m.\u001b[0m\u001b[0m_info_axis\u001b[0m\u001b[0;34m)\u001b[0m\u001b[0;34m,\u001b[0m \u001b[0mkey\u001b[0m\u001b[0;34m,\u001b[0m \u001b[0mvalue\u001b[0m\u001b[0;34m)\u001b[0m\u001b[0;34m\u001b[0m\u001b[0;34m\u001b[0m\u001b[0m\n\u001b[1;32m   4114\u001b[0m         \u001b[0;32melse\u001b[0m\u001b[0;34m:\u001b[0m\u001b[0;34m\u001b[0m\u001b[0;34m\u001b[0m\u001b[0m\n",
      "\u001b[0;32m/opt/conda/lib/python3.10/site-packages/pandas/core/generic.py\u001b[0m in \u001b[0;36m?\u001b[0;34m(self)\u001b[0m\n\u001b[0;32m--> 599\u001b[0;31m     \u001b[0;34m@\u001b[0m\u001b[0mproperty\u001b[0m\u001b[0;34m\u001b[0m\u001b[0;34m\u001b[0m\u001b[0m\n\u001b[0m\u001b[1;32m    600\u001b[0m     \u001b[0;32mdef\u001b[0m \u001b[0m_info_axis\u001b[0m\u001b[0;34m(\u001b[0m\u001b[0mself\u001b[0m\u001b[0;34m)\u001b[0m \u001b[0;34m->\u001b[0m \u001b[0mIndex\u001b[0m\u001b[0;34m:\u001b[0m\u001b[0;34m\u001b[0m\u001b[0;34m\u001b[0m\u001b[0m\n\u001b[1;32m    601\u001b[0m         \u001b[0;32mreturn\u001b[0m \u001b[0mgetattr\u001b[0m\u001b[0;34m(\u001b[0m\u001b[0mself\u001b[0m\u001b[0;34m,\u001b[0m \u001b[0mself\u001b[0m\u001b[0;34m.\u001b[0m\u001b[0m_info_axis_name\u001b[0m\u001b[0;34m)\u001b[0m\u001b[0;34m\u001b[0m\u001b[0;34m\u001b[0m\u001b[0m\n",
      "\u001b[0;31mKeyboardInterrupt\u001b[0m: "
     ]
    }
   ],
   "source": [
    "#va muy lento\n",
    "import pandas\n",
    "import shapely.geometry\n",
    "\n",
    "for i, row in data.iterrows():\n",
    "    point = shapely.geometry.Point(row[\"lon\"], row[\"lat\"])\n",
    "    data['geometry']=point"
   ]
  },
  {
   "cell_type": "code",
   "execution_count": null,
   "metadata": {
    "jupyter": {
     "source_hidden": true
    }
   },
   "outputs": [],
   "source": [
    "#NO funciona o va muy lento\n",
    "def create_point(row):\n",
    "    point = shapely.geometry.Point(row[\"lon\"], row[\"lat\"])\n",
    "    return point\n",
    "\n",
    "point_series = data.apply(create_point, axis=1)"
   ]
  },
  {
   "cell_type": "code",
   "execution_count": 20,
   "metadata": {
    "deletable": false,
    "editable": false
   },
   "outputs": [
    {
     "name": "stdout",
     "output_type": "stream",
     "text": [
      "0    POINT (31.48463 -24.98079)\n",
      "1    POINT (31.50891 -25.49922)\n",
      "2    POINT (30.93087 -24.34258)\n",
      "3    POINT (31.51972 -24.85461)\n",
      "4    POINT (31.52084 -24.92107)\n",
      "Name: geometry, dtype: geometry\n"
     ]
    }
   ],
   "source": [
    "# NON-EDITABLE CODE CELL FOR TESTING YOUR SOLUTION\n",
    "\n",
    "# Check the result\n",
    "print(data['geometry'].head())"
   ]
  },
  {
   "cell_type": "markdown",
   "metadata": {
    "deletable": false,
    "editable": false,
    "tags": []
   },
   "source": [
    "### c) Convert the `pandas.DataFrame` into a `geopandas.GeoDataFrame`\n",
    "\n",
    "- Convert `data` into a `geopandas.GeoDataFrame` using its [constructor](https://geopandas.org/reference/geopandas.GeoDataFrame.html). (*See [the hints for this exercise](https://autogis-site.readthedocs.io/en/latest/lessons/lesson-2/exercise-2.html) for additional instructions*)\n",
    "- Make sure that the resulting `GeoDataFrame` has a coordinate reference system defined"
   ]
  },
  {
   "cell_type": "code",
   "execution_count": 21,
   "metadata": {
    "collapsed": false,
    "jupyter": {
     "outputs_hidden": false
    }
   },
   "outputs": [
    {
     "data": {
      "text/plain": [
       "geopandas.geodataframe.GeoDataFrame"
      ]
     },
     "execution_count": 21,
     "metadata": {},
     "output_type": "execute_result"
    }
   ],
   "source": [
    "import geopandas\n",
    "\n",
    "gdf = geopandas.GeoDataFrame(data,\n",
    "    geometry=data['geometry'],\n",
    "    crs=\"EPSG:4326\"\n",
    ")\n",
    "\n",
    "data = gdf\n",
    "type(data)"
   ]
  },
  {
   "cell_type": "code",
   "execution_count": 22,
   "metadata": {
    "collapsed": false,
    "deletable": false,
    "editable": false,
    "jupyter": {
     "outputs_hidden": false
    }
   },
   "outputs": [
    {
     "data": {
      "text/html": [
       "<div>\n",
       "<style scoped>\n",
       "    .dataframe tbody tr th:only-of-type {\n",
       "        vertical-align: middle;\n",
       "    }\n",
       "\n",
       "    .dataframe tbody tr th {\n",
       "        vertical-align: top;\n",
       "    }\n",
       "\n",
       "    .dataframe thead th {\n",
       "        text-align: right;\n",
       "    }\n",
       "</style>\n",
       "<table border=\"1\" class=\"dataframe\">\n",
       "  <thead>\n",
       "    <tr style=\"text-align: right;\">\n",
       "      <th></th>\n",
       "      <th>lat</th>\n",
       "      <th>lon</th>\n",
       "      <th>timestamp</th>\n",
       "      <th>userid</th>\n",
       "      <th>geometry</th>\n",
       "    </tr>\n",
       "  </thead>\n",
       "  <tbody>\n",
       "    <tr>\n",
       "      <th>0</th>\n",
       "      <td>-24.980792</td>\n",
       "      <td>31.484633</td>\n",
       "      <td>2015-07-07 03:02</td>\n",
       "      <td>66487960</td>\n",
       "      <td>POINT (31.48463 -24.98079)</td>\n",
       "    </tr>\n",
       "    <tr>\n",
       "      <th>1</th>\n",
       "      <td>-25.499225</td>\n",
       "      <td>31.508906</td>\n",
       "      <td>2015-07-07 03:18</td>\n",
       "      <td>65281761</td>\n",
       "      <td>POINT (31.50891 -25.49922)</td>\n",
       "    </tr>\n",
       "    <tr>\n",
       "      <th>2</th>\n",
       "      <td>-24.342578</td>\n",
       "      <td>30.930866</td>\n",
       "      <td>2015-03-07 03:38</td>\n",
       "      <td>90916112</td>\n",
       "      <td>POINT (30.93087 -24.34258)</td>\n",
       "    </tr>\n",
       "    <tr>\n",
       "      <th>3</th>\n",
       "      <td>-24.854614</td>\n",
       "      <td>31.519718</td>\n",
       "      <td>2015-10-07 05:04</td>\n",
       "      <td>37959089</td>\n",
       "      <td>POINT (31.51972 -24.85461)</td>\n",
       "    </tr>\n",
       "    <tr>\n",
       "      <th>4</th>\n",
       "      <td>-24.921069</td>\n",
       "      <td>31.520836</td>\n",
       "      <td>2015-10-07 05:19</td>\n",
       "      <td>27793716</td>\n",
       "      <td>POINT (31.52084 -24.92107)</td>\n",
       "    </tr>\n",
       "    <tr>\n",
       "      <th>...</th>\n",
       "      <td>...</td>\n",
       "      <td>...</td>\n",
       "      <td>...</td>\n",
       "      <td>...</td>\n",
       "      <td>...</td>\n",
       "    </tr>\n",
       "    <tr>\n",
       "      <th>81374</th>\n",
       "      <td>-24.799541</td>\n",
       "      <td>31.354469</td>\n",
       "      <td>2015-09-05 02:23</td>\n",
       "      <td>90744213</td>\n",
       "      <td>POINT (31.35447 -24.79954)</td>\n",
       "    </tr>\n",
       "    <tr>\n",
       "      <th>81375</th>\n",
       "      <td>-25.467992</td>\n",
       "      <td>30.956033</td>\n",
       "      <td>2015-02-05 02:40</td>\n",
       "      <td>71109799</td>\n",
       "      <td>POINT (30.95603 -25.46799)</td>\n",
       "    </tr>\n",
       "    <tr>\n",
       "      <th>81376</th>\n",
       "      <td>-25.332223</td>\n",
       "      <td>30.997409</td>\n",
       "      <td>2015-08-05 02:40</td>\n",
       "      <td>54796261</td>\n",
       "      <td>POINT (30.99741 -25.33222)</td>\n",
       "    </tr>\n",
       "    <tr>\n",
       "      <th>81377</th>\n",
       "      <td>-25.508851</td>\n",
       "      <td>31.005536</td>\n",
       "      <td>2015-08-05 02:43</td>\n",
       "      <td>78762204</td>\n",
       "      <td>POINT (31.00554 -25.50885)</td>\n",
       "    </tr>\n",
       "    <tr>\n",
       "      <th>81378</th>\n",
       "      <td>-25.498840</td>\n",
       "      <td>31.007430</td>\n",
       "      <td>2015-04-05 02:44</td>\n",
       "      <td>32190273</td>\n",
       "      <td>POINT (31.00743 -25.49884)</td>\n",
       "    </tr>\n",
       "  </tbody>\n",
       "</table>\n",
       "<p>81379 rows × 5 columns</p>\n",
       "</div>"
      ],
      "text/plain": [
       "             lat        lon         timestamp    userid  \\\n",
       "0     -24.980792  31.484633  2015-07-07 03:02  66487960   \n",
       "1     -25.499225  31.508906  2015-07-07 03:18  65281761   \n",
       "2     -24.342578  30.930866  2015-03-07 03:38  90916112   \n",
       "3     -24.854614  31.519718  2015-10-07 05:04  37959089   \n",
       "4     -24.921069  31.520836  2015-10-07 05:19  27793716   \n",
       "...          ...        ...               ...       ...   \n",
       "81374 -24.799541  31.354469  2015-09-05 02:23  90744213   \n",
       "81375 -25.467992  30.956033  2015-02-05 02:40  71109799   \n",
       "81376 -25.332223  30.997409  2015-08-05 02:40  54796261   \n",
       "81377 -25.508851  31.005536  2015-08-05 02:43  78762204   \n",
       "81378 -25.498840  31.007430  2015-04-05 02:44  32190273   \n",
       "\n",
       "                         geometry  \n",
       "0      POINT (31.48463 -24.98079)  \n",
       "1      POINT (31.50891 -25.49922)  \n",
       "2      POINT (30.93087 -24.34258)  \n",
       "3      POINT (31.51972 -24.85461)  \n",
       "4      POINT (31.52084 -24.92107)  \n",
       "...                           ...  \n",
       "81374  POINT (31.35447 -24.79954)  \n",
       "81375  POINT (30.95603 -25.46799)  \n",
       "81376  POINT (30.99741 -25.33222)  \n",
       "81377  POINT (31.00554 -25.50885)  \n",
       "81378  POINT (31.00743 -25.49884)  \n",
       "\n",
       "[81379 rows x 5 columns]"
      ]
     },
     "execution_count": 22,
     "metadata": {},
     "output_type": "execute_result"
    }
   ],
   "source": [
    "# NON-EDITABLE CODE CELL FOR TESTING YOUR SOLUTION\n",
    "data"
   ]
  },
  {
   "cell_type": "markdown",
   "metadata": {
    "deletable": false,
    "editable": false,
    "tags": []
   },
   "source": [
    "### d) Save the data in Shapefile format as `kruger_points.shp` inside the `data` directory"
   ]
  },
  {
   "cell_type": "code",
   "execution_count": 25,
   "metadata": {},
   "outputs": [],
   "source": [
    "# ADD YOUR OWN CODE HERE\n",
    "import fiona\n",
    "data.to_file(DATA_DIRECTORY/'kruger_points.shp')"
   ]
  },
  {
   "cell_type": "code",
   "execution_count": 26,
   "metadata": {
    "deletable": false,
    "editable": false
   },
   "outputs": [],
   "source": [
    "# NON-EDITABLE CODE CELL FOR TESTING YOUR SOLUTION\n",
    "\n",
    "# Check that the output file exists\n",
    "import pathlib\n",
    "assert pathlib.Path(DATA_DIRECTORY / \"kruger_points.shp\").exists()"
   ]
  },
  {
   "cell_type": "markdown",
   "metadata": {
    "deletable": false,
    "editable": false,
    "tags": []
   },
   "source": [
    "### e) Create a simple map of the points"
   ]
  },
  {
   "cell_type": "code",
   "execution_count": 24,
   "metadata": {
    "collapsed": false,
    "jupyter": {
     "outputs_hidden": false
    }
   },
   "outputs": [
    {
     "data": {
      "text/plain": [
       "Text(0.5, 1.0, 'some_points')"
      ]
     },
     "execution_count": 24,
     "metadata": {},
     "output_type": "execute_result"
    },
    {
     "data": {
      "image/png": "[encoded data removed]",
      "text/plain": [
       "<Figure size 640x480 with 1 Axes>"
      ]
     },
     "metadata": {},
     "output_type": "display_data"
    }
   ],
   "source": [
    "# ADD YOUR OWN CODE HERE\n",
    "import matplotlib.pyplot\n",
    "\n",
    "data.plot('userid')\n",
    "matplotlib.pyplot.title('some_points')"
   ]
  },
  {
   "cell_type": "markdown",
   "metadata": {
    "deletable": false,
    "editable": false
   },
   "source": [
    "\n",
    "### *Optional:* Download the output shapefile and create a map using a Desktop GIS\n",
    "\n",
    "For example, overlay the points with a basemap. Post the resulting map in the `#week2` slack channel."
   ]
  },
  {
   "cell_type": "markdown",
   "metadata": {
    "deletable": false,
    "editable": false
   },
   "source": [
    "\n",
    "---\n",
    "\n",
    "### Great job!\n",
    "\n",
    "You can move on to [Exercise-2-problem-3.ipynb](Exercise-2-problem-3.ipynb)."
   ]
  }
 ],
 "metadata": {
  "anaconda-cloud": {},
  "kernelspec": {
   "display_name": "Python 3 (ipykernel)",
   "language": "python",
   "name": "python3"
  },
  "language_info": {
   "codemirror_mode": {
    "name": "ipython",
    "version": 3
   },
   "file_extension": ".py",
   "mimetype": "text/x-python",
   "name": "python",
   "nbconvert_exporter": "python",
   "pygments_lexer": "ipython3",
   "version": "3.10.11"
  }
 },
 "nbformat": 4,
 "nbformat_minor": 4
}
